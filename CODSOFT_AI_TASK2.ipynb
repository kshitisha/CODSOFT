{
  "nbformat": 4,
  "nbformat_minor": 0,
  "metadata": {
    "colab": {
      "provenance": []
    },
    "kernelspec": {
      "name": "python3",
      "display_name": "Python 3"
    },
    "language_info": {
      "name": "python"
    }
  },
  "cells": [
    {
      "cell_type": "code",
      "execution_count": 6,
      "metadata": {
        "id": "lM2fsiSBB48v"
      },
      "outputs": [],
      "source": [
        "import math"
      ]
    },
    {
      "cell_type": "code",
      "source": [
        "PLAYER, AI = 'O', 'X'"
      ],
      "metadata": {
        "id": "c9xCvdOKEGoV"
      },
      "execution_count": 7,
      "outputs": []
    },
    {
      "cell_type": "code",
      "source": [
        "def create_board():\n",
        "    return [[' ' for _ in range(3)] for _ in range(3)]"
      ],
      "metadata": {
        "id": "I25ulMN_EIsn"
      },
      "execution_count": 8,
      "outputs": []
    },
    {
      "cell_type": "code",
      "source": [
        "def print_board(board):\n",
        "    for row in board:\n",
        "        print('|'.join(row))\n",
        "        print('-' * 5)"
      ],
      "metadata": {
        "id": "Y5zWZM4xEKbC"
      },
      "execution_count": 9,
      "outputs": []
    },
    {
      "cell_type": "code",
      "source": [
        "def check_win(board, player):\n",
        "\n",
        "    for row in board:\n",
        "        if all([cell == player for cell in row]):\n",
        "            return True\n",
        "    for col in range(3):\n",
        "        if all([board[row][col] == player for row in range(3)]):\n",
        "            return True\n",
        "    if all([board[i][i] == player for i in range(3)]) or all([board[i][2-i] == player for i in range(3)]):\n",
        "        return True\n",
        "    return False"
      ],
      "metadata": {
        "id": "qZRUzb-dEMn6"
      },
      "execution_count": 10,
      "outputs": []
    },
    {
      "cell_type": "code",
      "source": [
        "def check_draw(board):\n",
        "    return all([cell != ' ' for row in board for cell in row])\n"
      ],
      "metadata": {
        "id": "s4slvhsJEOXG"
      },
      "execution_count": 11,
      "outputs": []
    },
    {
      "cell_type": "code",
      "source": [
        "def get_valid_moves(board):\n",
        "    return [(r, c) for r in range(3) for c in range(3) if board[r][c] == ' ']"
      ],
      "metadata": {
        "id": "wyAUfu1eEQU4"
      },
      "execution_count": 12,
      "outputs": []
    },
    {
      "cell_type": "code",
      "source": [
        "def make_move(board, move, player):\n",
        "    r, c = move\n",
        "    board[r][c] = player\n"
      ],
      "metadata": {
        "id": "vEuQL6bbESaM"
      },
      "execution_count": 13,
      "outputs": []
    },
    {
      "cell_type": "code",
      "source": [
        "def minimax(board, depth, is_maximizing, alpha, beta):\n",
        "    if check_win(board, AI):\n",
        "        return 10 - depth\n",
        "    if check_win(board, PLAYER):\n",
        "        return depth - 10\n",
        "    if check_draw(board):\n",
        "        return 0\n",
        "\n",
        "    if is_maximizing:\n",
        "        max_eval = -math.inf\n",
        "        for move in get_valid_moves(board):\n",
        "            make_move(board, move, AI)\n",
        "            eval = minimax(board, depth + 1, False, alpha, beta)\n",
        "            make_move(board, move, ' ')\n",
        "            max_eval = max(max_eval, eval)\n",
        "            alpha = max(alpha, eval)\n",
        "            if beta <= alpha:\n",
        "                break\n",
        "        return max_eval\n",
        "    else:\n",
        "        min_eval = math.inf\n",
        "        for move in get_valid_moves(board):\n",
        "            make_move(board, move, PLAYER)\n",
        "            eval = minimax(board, depth + 1, True, alpha, beta)\n",
        "            make_move(board, move, ' ')\n",
        "            min_eval = min(min_eval, eval)\n",
        "            beta = min(beta, eval)\n",
        "            if beta <= alpha:\n",
        "                break\n",
        "        return min_eval"
      ],
      "metadata": {
        "id": "8NRlMpPdEYjK"
      },
      "execution_count": 14,
      "outputs": []
    },
    {
      "cell_type": "code",
      "source": [
        "def get_best_move(board):\n",
        "    best_eval = -math.inf\n",
        "    best_move = None\n",
        "    for move in get_valid_moves(board):\n",
        "        make_move(board, move, AI)\n",
        "        eval = minimax(board, 0, False, -math.inf, math.inf)\n",
        "        make_move(board, move, ' ')\n",
        "        if eval > best_eval:\n",
        "            best_eval = eval\n",
        "            best_move = move\n",
        "    return best_move"
      ],
      "metadata": {
        "id": "ViyGBvLqEbTc"
      },
      "execution_count": 15,
      "outputs": []
    },
    {
      "cell_type": "code",
      "source": [
        "def play_game():\n",
        "    board = create_board()\n",
        "    print_board(board)\n",
        "    while True:\n",
        "\n",
        "        try:\n",
        "            r, c = map(int, input(\"Enter your move (row and column, e.g., 1 2): \").split())\n",
        "            if board[r][c] != ' ':\n",
        "                print(\"Invalid move! Cell already occupied.\")\n",
        "                continue\n",
        "            make_move(board, (r, c), PLAYER)\n",
        "        except (ValueError, IndexError):\n",
        "            print(\"Invalid input! Please enter row and column numbers between 0 and 2, separated by a space.\")\n",
        "            continue\n",
        "\n",
        "        print_board(board)\n",
        "        if check_win(board, PLAYER):\n",
        "            print(\"You win!\")\n",
        "            break\n",
        "        if check_draw(board):\n",
        "            print(\"It's a draw!\")\n",
        "            break\n",
        "\n",
        "\n",
        "        ai_move = get_best_move(board)\n",
        "        make_move(board, ai_move, AI)\n",
        "        print_board(board)\n",
        "        if check_win(board, AI):\n",
        "            print(\"AI wins!\")\n",
        "            break\n",
        "        if check_draw(board):\n",
        "            print(\"It's a draw!\")\n",
        "            break\n",
        "\n",
        "if __name__ == \"__main__\":\n",
        "    play_game()"
      ],
      "metadata": {
        "colab": {
          "base_uri": "https://localhost:8080/"
        },
        "id": "A578n3QaEeYk",
        "outputId": "1b24bd01-66ac-4826-8f68-8f442629b656"
      },
      "execution_count": null,
      "outputs": [
        {
          "output_type": "stream",
          "name": "stdout",
          "text": [
            " | | \n",
            "-----\n",
            " | | \n",
            "-----\n",
            " | | \n",
            "-----\n"
          ]
        }
      ]
    }
  ]
}